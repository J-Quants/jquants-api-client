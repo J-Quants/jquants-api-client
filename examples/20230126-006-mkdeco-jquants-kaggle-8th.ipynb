{
  "nbformat": 4,
  "nbformat_minor": 0,
  "metadata": {
    "colab": {
      "provenance": []
    },
    "kernelspec": {
      "name": "python3",
      "display_name": "Python 3"
    },
    "language_info": {
      "name": "python"
    }
  },
  "cells": [
    {
      "cell_type": "markdown",
      "source": [
        "[![Open In Colab](https://colab.research.google.com/assets/colab-badge.svg)](https://colab.research.google.com/github/J-Quants/jquants-api-client-python/blob/master/examples/20230126-006-mkdeco-jquants-kaggle-8th.ipynb)\n\n",
        "本ノートブックは J-Quants JPX Tokyo Stock Exchange Prediction の8位入賞モデルを J-Quants API を使用して動かしてみるサンプルノートブックとなります。\n",
        "\n",
        "\n",
        "J-Quants API を使用するために元のコードから一部改変しています。本ノートブックはあくまでもサンプルとしての提供を目的としており、予測精度については十分な評価・検証を実施しておりません。\n",
        "\n",
        "\n",
        "* 本ノートブックはGoogleドライブにデータを書き込みます。\n",
        "* 本ノートブックはデータの取得に J-Quants API を使用します。\n",
        "\n",
        "\n",
        "■注意事項\n",
        "\n",
        "本ノートブックは投資勧誘を目的としたものではありません。投資に関するご決定はご自身のご判断において行われるようお願いいたします。\n",
        "掲載された情報に誤りがあった場合や、第三者によるデータの改ざん、データのダウンロード等によって生じた障害等に関し、本コミュニティは事由の如何を問わず一切責任を負うものではありませんので、あらかじめご了承ください。"
      ],
      "metadata": {
        "id": "RyE7YZzx7G7l"
      }
    },
    {
      "cell_type": "code",
      "source": [
        "from google.colab import drive\n",
        "drive.mount('/content/drive')"
      ],
      "metadata": {
        "id": "ZBB4j4njA-UJ"
      },
      "execution_count": null,
      "outputs": []
    },
    {
      "cell_type": "code",
      "source": [
        "# データを保存するディレクトリを指定します。Google Driveに保存します。\n",
        "DATA_DIR = \"/content/drive/MyDrive/drive_ws/mkdeco\"\n",
        "# J-Quants JPX Tokyo Stock Exchange Prediction の入賞モデルのリポジトリを取得して8位モデルのコードを取得します\n",
        "REPO_DIR = \"jquants-kaggle\"\n",
        "MODEL_DIR = \"winner-models/8th\"\n",
        "MODEL_PATH = f\"{REPO_DIR}/{MODEL_DIR}\""
      ],
      "metadata": {
        "id": "wsxN19WgCYNz"
      },
      "execution_count": null,
      "outputs": []
    },
    {
      "cell_type": "code",
      "source": [
        "! git clone https://github.com/J-Quants/JPXTokyoStockExchangePrediction.git $REPO_DIR"
      ],
      "metadata": {
        "id": "T4ihOGzBCQaM"
      },
      "execution_count": null,
      "outputs": []
    },
    {
      "cell_type": "code",
      "source": [
        "import sys\n",
        "sys.path.append(f\"{MODEL_PATH}\")"
      ],
      "metadata": {
        "id": "cSwIqIBJDCDr"
      },
      "execution_count": null,
      "outputs": []
    },
    {
      "cell_type": "code",
      "execution_count": null,
      "metadata": {
        "id": "GtzyPqzhAo_6"
      },
      "outputs": [],
      "source": [
        "# データの取得に J-Quants API を使用します。\n",
        "! python3 -m pip -q install jquants-api-client"
      ]
    },
    {
      "cell_type": "code",
      "source": [
        "# lightGBMのバージョンを調整します。\n",
        "! python3 -m pip -q install -U lightgbm==3.3.5"
      ],
      "metadata": {
        "id": "z7DhZcpCGX-p"
      },
      "execution_count": null,
      "outputs": []
    },
    {
      "cell_type": "code",
      "source": [
        "import os\n",
        "import sys\n",
        "import pickle\n",
        "\n",
        "import numpy as np\n",
        "import pandas as pd\n",
        "import lightgbm\n",
        "from tqdm.auto import tqdm\n",
        "\n",
        "import jquantsapi as jqapi\n",
        "\n",
        "# 上記で取得した独自ライブラリ\n",
        "import Features\n",
        "from Preprocessing import StockDataPreprocessor\n",
        "from Trackers import StockTracker, FeatureType"
      ],
      "metadata": {
        "id": "l-xsPigTAvVP"
      },
      "execution_count": null,
      "outputs": []
    },
    {
      "cell_type": "code",
      "source": [
        "# J-Quants APIを使用してデータを取得します\n",
        "# /content/drive/MyDrive/drive_ws/secret/jquants-api.toml にuser_idとパスワードを記載した設定ファイルを置いてあります\n",
        "# ref. https://github.com/J-Quants/jquants-api-client-python#%E8%A8%AD%E5%AE%9A%E3%83%95%E3%82%A1%E3%82%A4%E3%83%AB%E4%BE%8B\n",
        "cli = jqapi.Client()"
      ],
      "metadata": {
        "id": "ZAltRA86A3Cw"
      },
      "execution_count": null,
      "outputs": []
    },
    {
      "cell_type": "code",
      "source": [
        "# 予測対象銘柄を指定するために銘柄一覧を取得します\n",
        "df_list = cli.get_list()"
      ],
      "metadata": {
        "id": "5_2X5AgvDX1r"
      },
      "execution_count": null,
      "outputs": []
    },
    {
      "cell_type": "code",
      "source": [
        "df_list.tail(2)"
      ],
      "metadata": {
        "id": "ln7amrrODdA5"
      },
      "execution_count": null,
      "outputs": []
    },
    {
      "cell_type": "code",
      "source": [
        "# 株価情報を取得します\n",
        "LAST_N_BDAY = 100\n",
        "START_DT = (pd.Timestamp.now() - pd.offsets.BDay(LAST_N_BDAY)).strftime(\"%Y-%m-%d\")\n",
        "END_DT = pd.Timestamp.now().strftime(\"%Y-%m-%d\")\n",
        "PRICE_FILE = f\"{DATA_DIR}/20230113-mkdeco-jquants-kaggle-8th-price-{START_DT}_{END_DT}.parquet\"\n",
        "if not os.path.isfile(PRICE_FILE):\n",
        "    os.makedirs(DATA_DIR, exist_ok=True)\n",
        "    df_price = cli.get_price_range(start_dt=START_DT, end_dt=END_DT)\n",
        "    df_price.to_parquet(PRICE_FILE)\n",
        "df_price = pd.read_parquet(PRICE_FILE)"
      ],
      "metadata": {
        "id": "qEpXvndCA7C7"
      },
      "execution_count": null,
      "outputs": []
    },
    {
      "cell_type": "code",
      "source": [
        "df_price.tail(2)"
      ],
      "metadata": {
        "id": "OUhhNalrByKF"
      },
      "execution_count": null,
      "outputs": []
    },
    {
      "cell_type": "code",
      "source": [
        "df_list[\"ScaleCategory\"].unique()"
      ],
      "metadata": {
        "id": "8eBqFBG1a0iS"
      },
      "execution_count": null,
      "outputs": []
    },
    {
      "cell_type": "code",
      "source": [
        "# 対象をTOPIX500銘柄に絞り込みます。\n",
        "topix500_list = sorted(df_list.loc[df_list[\"ScaleCategory\"].isin([\"TOPIX Core30\", \"TOPIX Large70\", \"TOPIX Mid400\"]), \"Code\"].unique())\n",
        "df_price = df_price.loc[df_price[\"Code\"].isin(topix500_list)]\n",
        "df_price[\"Code\"].unique().shape"
      ],
      "metadata": {
        "id": "rZ0sH_KPaxBn"
      },
      "execution_count": null,
      "outputs": []
    },
    {
      "cell_type": "code",
      "source": [
        "# データを調整します。\n",
        "df_price_kaggle = df_price.sort_values([\"Code\", \"Date\"])\n",
        "# 銘柄コードを4桁にします\n",
        "df_price_kaggle[\"SecuritiesCode\"] = df_price_kaggle[\"Code\"].str[:4].astype(np.int16)\n",
        "# Kaggleデータに存在したカラムを追加します\n",
        "df_price_kaggle[\"ExpectedDividend\"] = 0.0\n",
        "df_price_kaggle[\"SupervisionFlag\"] = False\n",
        "df_price_kaggle[\"Target\"] = np.nan\n",
        "df_price_kaggle[\"Target_open2close\"] = np.nan\n",
        "\n",
        "def adjust(df):\n",
        "    # 調整係数を1日分ずらします\n",
        "    df[\"AdjustmentFactor\"] = df[\"AdjustmentFactor\"].shift(-1)\n",
        "    # Target列を作成します\n",
        "    df[\"Target\"] = df[\"AdjustmentClose\"].pct_change().shift(-2)\n",
        "    # target_pen2close列を作成します\n",
        "    df[\"Target_open2close\"] = df[[\"AdjustmentOpen\", \"AdjustmentClose\"]].pct_change(axis=1)[\"AdjustmentClose\"].shift(-1)\n",
        "    return df\n",
        "\n",
        "df_price_kaggle = df_price_kaggle.groupby(\"Code\").apply(adjust).reset_index(drop=True)\n",
        "# 予測対象の銘柄コード(4桁)を保存しておきます。\n",
        "target_codes = sorted(df_price_kaggle[\"SecuritiesCode\"].unique())"
      ],
      "metadata": {
        "id": "6Qefakkpbrvn"
      },
      "execution_count": null,
      "outputs": []
    },
    {
      "cell_type": "code",
      "source": [
        "df_price_kaggle.tail(2)"
      ],
      "metadata": {
        "id": "_dJXivBTeJAW"
      },
      "execution_count": null,
      "outputs": []
    },
    {
      "cell_type": "code",
      "source": [
        "# 公開されている予測モデルを取得します\n",
        "MODEL_FILE = \"lgbm.pickle\"\n",
        "with open(f\"{MODEL_PATH}/{MODEL_FILE}\", mode=\"rb\") as f:\n",
        "    model = pickle.load(f)"
      ],
      "metadata": {
        "id": "6JLZJkpwDUoO"
      },
      "execution_count": null,
      "outputs": []
    },
    {
      "cell_type": "code",
      "source": [
        "# モデルのパラメータを確認します\n",
        "model.get_params()"
      ],
      "metadata": {
        "id": "sVwotfREEsvm"
      },
      "execution_count": null,
      "outputs": []
    },
    {
      "cell_type": "code",
      "source": [
        "# 特徴量などを設定します"
      ],
      "metadata": {
        "id": "mzSRbaqldkQa"
      },
      "execution_count": null,
      "outputs": []
    },
    {
      "cell_type": "code",
      "source": [
        "features = [Features.Amplitude(), Features.OpenCloseReturn(), Features.Return(), \n",
        "            Features.Volatility(10), Features.Volatility(30), Features.Volatility(50), \n",
        "            Features.SMA(\"Close\", 3), Features.SMA(\"Close\", 5), Features.SMA(\"Close\", 10),\n",
        "            Features.SMA(\"Close\", 30),\n",
        "            Features.SMA(\"Return\", 3), Features.SMA(\"Return\", 5), \n",
        "            Features.SMA(\"Return\", 10), Features.SMA(\"Return\", 30),\n",
        "           ]"
      ],
      "metadata": {
        "id": "3ZHKzdqDdgzl"
      },
      "execution_count": null,
      "outputs": []
    },
    {
      "cell_type": "code",
      "source": [
        "## Specify training columns and specify categorical columns\n",
        "training_cols = ['SecuritiesCode', 'Open', 'High', 'Low', 'Close',\n",
        "                 'Volume', 'AdjustmentFactor', 'ExpectedDividend', \n",
        "                 'SupervisionFlag']\n",
        "\n",
        "for feature in features:\n",
        "    training_cols.append(feature.name)\n",
        "\n",
        "categorical_cols = [\"SecuritiesCode\", \"SupervisionFlag\"]\n",
        "target_col = [\"Target\"]"
      ],
      "metadata": {
        "id": "UFKHhAMbdsPE"
      },
      "execution_count": null,
      "outputs": []
    },
    {
      "cell_type": "code",
      "source": [
        "class Algo:\n",
        "    \n",
        "    def __init__(self, model, state_tracker):\n",
        "        self.model = model\n",
        "        self.st = state_tracker\n",
        "        self.cols = ['SecuritiesCode', 'Open', 'High', 'Low', 'Close',\n",
        "                 'Volume', 'AdjustmentFactor', 'ExpectedDividend', \n",
        "                 'SupervisionFlag']\n",
        "\n",
        "        # 元のコードではstock_idがハードコーディングされているため一部修正します。\n",
        "        for feature in self.st.local_features[list(self.st.local_features)[0]]:\n",
        "            self.cols.append(feature.name)\n",
        "\n",
        "    def add_rank1(self, df):\n",
        "        # ランク付けをシンプルにしています。\n",
        "        df[\"Rank\"] = len(df) - df[\"Prediction\"].rank(method=\"first\")\n",
        "        return df\n",
        "    \n",
        "    def predict_online(self, prices):\n",
        "        prices = self.st.online_update_apply(prices)[self.cols]\n",
        "        if not prices[\"SecuritiesCode\"].is_monotonic_increasing:\n",
        "            prices = prices.sort_values(by=\"SecuritiesCode\")\n",
        "        prices[\"Prediction\"] = self.model.predict(prices)\n",
        "        return self.add_rank1(prices)"
      ],
      "metadata": {
        "id": "TUE9DRkAjBLr"
      },
      "execution_count": null,
      "outputs": []
    },
    {
      "cell_type": "code",
      "source": [
        "class StateTracker:\n",
        "\n",
        "    def __init__(self, features, stock_ids):\n",
        "        # 元のコードではstock_idがハードコーディングされているため一部修正します。\n",
        "        self.stock_ids = stock_ids\n",
        "        self.stock_trackers = {}\n",
        "        for s_id in self.stock_ids:\n",
        "            self.stock_trackers[s_id] = StockTracker(s_id)\n",
        "        self.global_features = []\n",
        "\n",
        "        self.local_features = {}\n",
        "\n",
        "        for feature in features:\n",
        "\n",
        "            if feature.feature_type == FeatureType.GLOBAL:\n",
        "                self.global_features.append(feature)\n",
        "            elif feature.feature_type == FeatureType.LOCAL:\n",
        "                for stock_id in self.stock_ids:\n",
        "                    if stock_id not in self.local_features:\n",
        "                        self.local_features[stock_id] = []\n",
        "                    self.local_features[stock_id].append(feature.copy())\n",
        "\n",
        "    def update_single_row(self, row):\n",
        "        stock_id = row[\"SecuritiesCode\"]\n",
        "        row, status_code = self.stock_trackers[stock_id].update(row)\n",
        "        row[\"StatusCode\"] = status_code\n",
        "        for feature in self.local_features[stock_id]:\n",
        "            row = feature.update_row(row)\n",
        "        return row\n",
        "\n",
        "    def online_update_apply(self, prices):\n",
        "        return prices.apply(lambda row: self.update_single_row(row), axis=1)\n"
      ],
      "metadata": {
        "id": "_H_jWbVPpM1x"
      },
      "execution_count": null,
      "outputs": []
    },
    {
      "cell_type": "code",
      "source": [
        "# 推論します (初期設定のデータ期間 (100日) の場合、10分程度かかります)\n",
        "st = StateTracker(features, target_codes)\n",
        "algo = Algo(model, st)\n",
        "# 取得するランキングの上下N銘柄数を指定します\n",
        "# EVAL_N = 10\n",
        "\n",
        "buff = []\n",
        "for grouped_prices in tqdm(df_price_kaggle.groupby(\"Date\")):\n",
        "    prices = grouped_prices[1].copy()\n",
        "    if not prices[\"SecuritiesCode\"].is_monotonic_increasing:\n",
        "        prices = prices.sort_values(\"SecuritiesCode\")\n",
        "    \n",
        "    prices[\"Rank\"] = algo.predict_online(prices)[\"Rank\"]  # make your predictions here\n",
        "    prices = prices.sort_values(\"Rank\")\n",
        "    # ランキングの上下N銘柄のみ取得します\n",
        "    # prices = pd.concat([prices.iloc[:EVAL_N], prices.iloc[-EVAL_N:]])\n",
        "\n",
        "    buff.append(prices)   # register your predictions"
      ],
      "metadata": {
        "id": "YQ2P57IDGq76"
      },
      "execution_count": null,
      "outputs": []
    },
    {
      "cell_type": "code",
      "source": [
        "df_ret = pd.concat(buff)"
      ],
      "metadata": {
        "id": "sRX7ZSyLiiqp"
      },
      "execution_count": null,
      "outputs": []
    },
    {
      "cell_type": "code",
      "source": [
        "df_ret.head(2)"
      ],
      "metadata": {
        "id": "PUa-BEwv3sdg"
      },
      "execution_count": null,
      "outputs": []
    },
    {
      "cell_type": "code",
      "source": [
        "df_ret.tail(2)"
      ],
      "metadata": {
        "id": "nLDzay8vj-ZN"
      },
      "execution_count": null,
      "outputs": []
    },
    {
      "cell_type": "code",
      "source": [
        "# 日次の順位相関を確認します\n",
        "df_ret.groupby(\"Date\")[[\"Target\", \"Rank\"]].corr(method=\"spearman\").xs(\"Target\", level=1)[\"Rank\"].describe()"
      ],
      "metadata": {
        "id": "r6fwYqtDnvMN"
      },
      "execution_count": null,
      "outputs": []
    },
    {
      "cell_type": "code",
      "source": [
        "# 日次の順位相関の累積をプロットします\n",
        "df_ret.groupby(\"Date\")[[\"Target\", \"Rank\"]].corr(method=\"spearman\").xs(\"Target\", level=1)[\"Rank\"].cumsum().plot(figsize=(20, 8))"
      ],
      "metadata": {
        "id": "aF99A37208x7"
      },
      "execution_count": null,
      "outputs": []
    },
    {
      "cell_type": "code",
      "source": [],
      "metadata": {
        "id": "4fv_Yi22Sjgr"
      },
      "execution_count": null,
      "outputs": []
    }
  ]
}